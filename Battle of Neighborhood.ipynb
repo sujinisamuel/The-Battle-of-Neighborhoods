{
 "cells": [
  {
   "cell_type": "markdown",
   "metadata": {},
   "source": [
    "## Coursera Capstone Project Report\n",
    "### The Battle of the Neighborhoods"
   ]
  },
  {
   "cell_type": "code",
   "execution_count": 10,
   "metadata": {},
   "outputs": [
    {
     "name": "stdout",
     "output_type": "stream",
     "text": [
      "Solving environment: done\n",
      "\n",
      "\n",
      "==> WARNING: A newer version of conda exists. <==\n",
      "  current version: 4.5.11\n",
      "  latest version: 4.8.0\n",
      "\n",
      "Please update conda by running\n",
      "\n",
      "    $ conda update -n base -c defaults conda\n",
      "\n",
      "\n",
      "\n",
      "# All requested packages already installed.\n",
      "\n",
      "Solving environment: done\n",
      "\n",
      "\n",
      "==> WARNING: A newer version of conda exists. <==\n",
      "  current version: 4.5.11\n",
      "  latest version: 4.8.0\n",
      "\n",
      "Please update conda by running\n",
      "\n",
      "    $ conda update -n base -c defaults conda\n",
      "\n",
      "\n",
      "\n",
      "# All requested packages already installed.\n",
      "\n",
      "Libraries imported.\n"
     ]
    }
   ],
   "source": [
    "import numpy as np # library to handle data in a vectorized manner\n",
    "import time\n",
    "import pandas as pd # library for data analsysis\n",
    "pd.set_option('display.max_columns', None)\n",
    "pd.set_option('display.max_rows', None)\n",
    "\n",
    "import json # library to handle JSON files\n",
    "import requests # library to handle requests\n",
    "from pandas.io.json import json_normalize # tranform JSON file into a pandas dataframe\n",
    "\n",
    "\n",
    "!conda install -c conda-forge geopy --yes # uncomment this line if you haven't completed the Foursquare API lab\n",
    "from geopy.geocoders import Nominatim # convert an address into latitude and longitude values\n",
    "\n",
    "!conda install -c conda-forge folium=0.5.0 --yes # uncomment this line if you haven't completed the Foursquare API lab\n",
    "import folium # map rendering library\n",
    "import folium # map rendering library\n",
    "from folium import plugins\n",
    "\n",
    "# Matplotlib and associated plotting modules\n",
    "import matplotlib.cm as cm\n",
    "import matplotlib.colors as colors\n",
    "\n",
    "import seaborn as sns\n",
    "\n",
    "# import k-means from clustering stage\n",
    "from sklearn.cluster import KMeans\n",
    "\n",
    "\n",
    "print('Libraries imported.')"
   ]
  },
  {
   "cell_type": "code",
   "execution_count": 11,
   "metadata": {},
   "outputs": [
    {
     "name": "stderr",
     "output_type": "stream",
     "text": [
      "/home/jupyterlab/conda/envs/python/lib/python3.6/site-packages/ipykernel_launcher.py:3: DeprecationWarning: Using Nominatim with the default \"geopy/1.20.0\" `user_agent` is strongly discouraged, as it violates Nominatim's ToS https://operations.osmfoundation.org/policies/nominatim/ and may possibly cause 403 and 429 HTTP errors. Please specify a custom `user_agent` with `Nominatim(user_agent=\"my-application\")` or by overriding the default `user_agent`: `geopy.geocoders.options.default_user_agent = \"my-application\"`. In geopy 2.0 this will become an exception.\n",
      "  This is separate from the ipykernel package so we can avoid doing imports until\n"
     ]
    },
    {
     "name": "stdout",
     "output_type": "stream",
     "text": [
      "The geograpical coordinate of Brooklyn are 40.6740635, -73.9862307.\n"
     ]
    }
   ],
   "source": [
    "\n",
    "address = 'Brooklyn, Newyork'\n",
    "\n",
    "geolocator = Nominatim()\n",
    "location = geolocator.geocode(address)\n",
    "latitude = location.latitude\n",
    "longitude = location.longitude\n",
    "print('The geograpical coordinate of Brooklyn are {}, {}.'.format(latitude, longitude))"
   ]
  },
  {
   "cell_type": "code",
   "execution_count": 12,
   "metadata": {},
   "outputs": [],
   "source": [
    "neighborhood_latitude=40.6740635\n",
    "neighborhood_longitude=-73.9862307"
   ]
  },
  {
   "cell_type": "code",
   "execution_count": 17,
   "metadata": {},
   "outputs": [],
   "source": [
    "CLIENT_ID = 'M12NTNG0XL---------QZCTNJ0NG5RXKIFKMNLJ2W' # your Foursquare ID\n",
    "CLIENT_SECRET = 'TSLNQ3---------W4WALGGWGZ5TVCD2WTDQYNF01T21FQCRQ' # your Foursquare Secret\n",
    "VERSION = '20---04'\n",
    "LIMIT = 100 # limit of number of venues returned by Foursquare API\n",
    "radius = 500 # define radius"
   ]
  },
  {
   "cell_type": "code",
   "execution_count": 18,
   "metadata": {},
   "outputs": [],
   "source": [
    "# function that extracts the category of the venue\n",
    "def get_category_type(row):\n",
    "    try:\n",
    "        categories_list = row['categories']\n",
    "    except:\n",
    "        categories_list = row['venue.categories']\n",
    "        \n",
    "    if len(categories_list) == 0:\n",
    "        return None\n",
    "    else:\n",
    "        return categories_list[0]['name']"
   ]
  },
  {
   "cell_type": "code",
   "execution_count": 19,
   "metadata": {},
   "outputs": [],
   "source": [
    "url= 'https://api.foursquare.com/v2/venues/explore?&client_id=M12NTNG0XL3O05IYMKRNIWFULVQZCTNJ0NG5RXKIFKMNLJ2W&client_secret=TSLNQ3OEHLKAWTHW4WALGGWGZ5TVCD2WTDQYNF01T21FQCRQ&v=20180604&ll=40.6740635,-73.9862307&radius=500&limit=100'"
   ]
  },
  {
   "cell_type": "code",
   "execution_count": 20,
   "metadata": {},
   "outputs": [],
   "source": [
    "results = requests.get(url).json()"
   ]
  },
  {
   "cell_type": "code",
   "execution_count": 21,
   "metadata": {},
   "outputs": [
    {
     "data": {
      "text/html": [
       "<div>\n",
       "<style scoped>\n",
       "    .dataframe tbody tr th:only-of-type {\n",
       "        vertical-align: middle;\n",
       "    }\n",
       "\n",
       "    .dataframe tbody tr th {\n",
       "        vertical-align: top;\n",
       "    }\n",
       "\n",
       "    .dataframe thead th {\n",
       "        text-align: right;\n",
       "    }\n",
       "</style>\n",
       "<table border=\"1\" class=\"dataframe\">\n",
       "  <thead>\n",
       "    <tr style=\"text-align: right;\">\n",
       "      <th></th>\n",
       "      <th>name</th>\n",
       "      <th>categories</th>\n",
       "      <th>lat</th>\n",
       "      <th>lng</th>\n",
       "    </tr>\n",
       "  </thead>\n",
       "  <tbody>\n",
       "    <tr>\n",
       "      <th>0</th>\n",
       "      <td>Artist &amp; Craftsman Supply</td>\n",
       "      <td>Arts &amp; Crafts Store</td>\n",
       "      <td>40.674341</td>\n",
       "      <td>-73.984297</td>\n",
       "    </tr>\n",
       "    <tr>\n",
       "      <th>1</th>\n",
       "      <td>J.J. Byrne Playground</td>\n",
       "      <td>Park</td>\n",
       "      <td>40.672939</td>\n",
       "      <td>-73.984085</td>\n",
       "    </tr>\n",
       "    <tr>\n",
       "      <th>2</th>\n",
       "      <td>Whole Foods Market</td>\n",
       "      <td>Grocery Store</td>\n",
       "      <td>40.675262</td>\n",
       "      <td>-73.988863</td>\n",
       "    </tr>\n",
       "    <tr>\n",
       "      <th>3</th>\n",
       "      <td>Washington Park</td>\n",
       "      <td>Park</td>\n",
       "      <td>40.672582</td>\n",
       "      <td>-73.986570</td>\n",
       "    </tr>\n",
       "    <tr>\n",
       "      <th>4</th>\n",
       "      <td>Dirty Precious</td>\n",
       "      <td>Cocktail Bar</td>\n",
       "      <td>40.676317</td>\n",
       "      <td>-73.986753</td>\n",
       "    </tr>\n",
       "    <tr>\n",
       "      <th>5</th>\n",
       "      <td>Russo's Mozzarella &amp; Pasta</td>\n",
       "      <td>Deli / Bodega</td>\n",
       "      <td>40.673132</td>\n",
       "      <td>-73.983030</td>\n",
       "    </tr>\n",
       "    <tr>\n",
       "      <th>6</th>\n",
       "      <td>L'Albero dei gelati</td>\n",
       "      <td>Ice Cream Shop</td>\n",
       "      <td>40.671977</td>\n",
       "      <td>-73.983767</td>\n",
       "    </tr>\n",
       "    <tr>\n",
       "      <th>7</th>\n",
       "      <td>Culture: An American Yogurt Company</td>\n",
       "      <td>Frozen Yogurt Shop</td>\n",
       "      <td>40.672434</td>\n",
       "      <td>-73.983626</td>\n",
       "    </tr>\n",
       "    <tr>\n",
       "      <th>8</th>\n",
       "      <td>Baba's Pierogies</td>\n",
       "      <td>Eastern European Restaurant</td>\n",
       "      <td>40.676985</td>\n",
       "      <td>-73.986435</td>\n",
       "    </tr>\n",
       "    <tr>\n",
       "      <th>9</th>\n",
       "      <td>Stone Park Café</td>\n",
       "      <td>American Restaurant</td>\n",
       "      <td>40.672920</td>\n",
       "      <td>-73.983358</td>\n",
       "    </tr>\n",
       "  </tbody>\n",
       "</table>\n",
       "</div>"
      ],
      "text/plain": [
       "                                  name                   categories  \\\n",
       "0            Artist & Craftsman Supply          Arts & Crafts Store   \n",
       "1                J.J. Byrne Playground                         Park   \n",
       "2                   Whole Foods Market                Grocery Store   \n",
       "3                      Washington Park                         Park   \n",
       "4                       Dirty Precious                 Cocktail Bar   \n",
       "5           Russo's Mozzarella & Pasta                Deli / Bodega   \n",
       "6                  L'Albero dei gelati               Ice Cream Shop   \n",
       "7  Culture: An American Yogurt Company           Frozen Yogurt Shop   \n",
       "8                     Baba's Pierogies  Eastern European Restaurant   \n",
       "9                      Stone Park Café          American Restaurant   \n",
       "\n",
       "         lat        lng  \n",
       "0  40.674341 -73.984297  \n",
       "1  40.672939 -73.984085  \n",
       "2  40.675262 -73.988863  \n",
       "3  40.672582 -73.986570  \n",
       "4  40.676317 -73.986753  \n",
       "5  40.673132 -73.983030  \n",
       "6  40.671977 -73.983767  \n",
       "7  40.672434 -73.983626  \n",
       "8  40.676985 -73.986435  \n",
       "9  40.672920 -73.983358  "
      ]
     },
     "execution_count": 21,
     "metadata": {},
     "output_type": "execute_result"
    }
   ],
   "source": [
    "venues = results['response']['groups'][0]['items']\n",
    "    \n",
    "Bnearby_venues = json_normalize(venues) # flatten JSON\n",
    "\n",
    "# filter columns\n",
    "filtered_columns = ['venue.name', 'venue.categories', 'venue.location.lat', 'venue.location.lng']\n",
    "Bnearby_venues =Bnearby_venues.loc[:, filtered_columns]\n",
    "\n",
    "# filter the category for each row\n",
    "Bnearby_venues['venue.categories'] = Bnearby_venues.apply(get_category_type, axis=1)\n",
    "\n",
    "# clean columns\n",
    "Bnearby_venues.columns = [col.split(\".\")[-1] for col in Bnearby_venues.columns]\n",
    "\n",
    "Bnearby_venues.head(10)"
   ]
  },
  {
   "cell_type": "code",
   "execution_count": 23,
   "metadata": {},
   "outputs": [
    {
     "data": {
      "text/html": [
       "<div style=\"width:100%;\"><div style=\"position:relative;width:100%;height:0;padding-bottom:60%;\"><iframe src=\"data:text/html;charset=utf-8;base64,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\" style=\"position:absolute;width:100%;height:100%;left:0;top:0;border:none !important;\" allowfullscreen webkitallowfullscreen mozallowfullscreen></iframe></div></div>"
      ],
      "text/plain": [
       "<folium.folium.Map at 0x7f5b67bb9cf8>"
      ]
     },
     "execution_count": 23,
     "metadata": {},
     "output_type": "execute_result"
    }
   ],
   "source": [
    "# create map of Brooklyn using latitude and longitude values\n",
    "map_B = folium.Map(location=[neighborhood_latitude, neighborhood_longitude], zoom_start=20)\n",
    "\n",
    "# add markers to map\n",
    "for lat, lng, label in zip(Bnearby_venues['lat'], Bnearby_venues['lng'], Bnearby_venues['name']):\n",
    "    label = folium.Popup(label, parse_html=True)\n",
    "    folium.RegularPolygonMarker(\n",
    "        [lat, lng],\n",
    "        number_of_sides=4,\n",
    "        radius=10,\n",
    "        popup=label,\n",
    "        color='blue',\n",
    "        fill_color='#0f0f0f',\n",
    "        fill_opacity=0.7,\n",
    "    ).add_to(map_B)  \n",
    "    \n",
    "map_B"
   ]
  },
  {
   "cell_type": "code",
   "execution_count": 27,
   "metadata": {},
   "outputs": [
    {
     "data": {
      "text/plain": [
       "'https://api.foursquare.com/v2/venues/4fa862b3e4b0ebff2f749f06?client_id=M12NTNG0XL3O05IYMKRNIWFULVQZCTNJ0NG5RXKIFKMNLJ2W&client_secret=TSLNQ3OEHLKAWTHW4WALGGWGZ5TVCD2WTDQYNF01T21FQCRQ&v=20180604'"
      ]
     },
     "execution_count": 27,
     "metadata": {},
     "output_type": "execute_result"
    }
   ],
   "source": [
    "venue_id = '4fa862b3e4b0ebff2f749f06' # ID of Harry's Italian Pizza Bar\n",
    "url = 'https://api.foursquare.com/v2/venues/{}?client_id={}&client_secret={}&v={}'.format(venue_id, CLIENT_ID, CLIENT_SECRET, VERSION)\n",
    "url"
   ]
  },
  {
   "cell_type": "code",
   "execution_count": 28,
   "metadata": {},
   "outputs": [
    {
     "name": "stdout",
     "output_type": "stream",
     "text": [
      "dict_keys(['id', 'name', 'contact', 'location', 'canonicalUrl', 'categories', 'verified', 'stats', 'url', 'price', 'hasMenu', 'likes', 'dislike', 'ok', 'rating', 'ratingColor', 'ratingSignals', 'delivery', 'menu', 'allowMenuUrlEdit', 'beenHere', 'specials', 'photos', 'reasons', 'hereNow', 'createdAt', 'tips', 'shortUrl', 'timeZone', 'listed', 'hours', 'popular', 'pageUpdates', 'inbox', 'attributes', 'bestPhoto', 'colors'])\n"
     ]
    }
   ],
   "source": [
    "result = requests.get(url).json()\n",
    "print(result['response']['venue'].keys())"
   ]
  },
  {
   "cell_type": "code",
   "execution_count": 29,
   "metadata": {},
   "outputs": [
    {
     "name": "stdout",
     "output_type": "stream",
     "text": [
      "6.8\n"
     ]
    }
   ],
   "source": [
    "try:\n",
    "    print(result['response']['venue']['rating'])\n",
    "except:\n",
    "    print('This venue has not been rated yet.')"
   ]
  },
  {
   "cell_type": "code",
   "execution_count": 30,
   "metadata": {},
   "outputs": [
    {
     "name": "stdout",
     "output_type": "stream",
     "text": [
      "7.9\n"
     ]
    }
   ],
   "source": [
    "venue_id = '4a08e2fff964a52022741fe3' # ID of Fiore Restaurant\n",
    "url = 'https://api.foursquare.com/v2/venues/{}?client_id={}&client_secret={}&v={}'.format(venue_id, CLIENT_ID, CLIENT_SECRET, VERSION)\n",
    "\n",
    "result = requests.get(url).json()\n",
    "try:\n",
    "    print(result['response']['venue']['rating'])\n",
    "except:\n",
    "    print('This venue has not been rated yet.')"
   ]
  },
  {
   "cell_type": "code",
   "execution_count": 31,
   "metadata": {},
   "outputs": [
    {
     "name": "stdout",
     "output_type": "stream",
     "text": [
      "8.0\n"
     ]
    }
   ],
   "source": [
    "venue_id = '4aa85f31f964a520075120e3' # ID of Vinny's of Carroll Gardens\n",
    "url = 'https://api.foursquare.com/v2/venues/{}?client_id={}&client_secret={}&v={}'.format(venue_id, CLIENT_ID, CLIENT_SECRET, VERSION)\n",
    "\n",
    "result = requests.get(url).json()\n",
    "try:\n",
    "    print(result['response']['venue']['rating'])\n",
    "except:\n",
    "    print('This venue has not been rated yet.')"
   ]
  },
  {
   "cell_type": "markdown",
   "metadata": {},
   "source": [
    "##### Since this restaurant has a slightly better rating, let's explore it further."
   ]
  },
  {
   "cell_type": "code",
   "execution_count": 32,
   "metadata": {},
   "outputs": [
    {
     "data": {
      "text/plain": [
       "39"
      ]
     },
     "execution_count": 32,
     "metadata": {},
     "output_type": "execute_result"
    }
   ],
   "source": [
    "result['response']['venue']['tips']['count']"
   ]
  },
  {
   "cell_type": "code",
   "execution_count": 33,
   "metadata": {},
   "outputs": [
    {
     "data": {
      "text/plain": [
       "{'meta': {'code': 200, 'requestId': '5df9fad954289056aa7d5f4e'},\n",
       " 'response': {'tips': {'count': 39,\n",
       "   'items': [{'id': '53095fbe11d2a9634edf062d',\n",
       "     'createdAt': 1393123262,\n",
       "     'text': 'Vinny is super friendly, been in the business 40 years! Food is great. No hipsters here, old school and neighborhoody.',\n",
       "     'type': 'user',\n",
       "     'canonicalUrl': 'https://foursquare.com/item/53095fbe11d2a9634edf062d',\n",
       "     'lang': 'en',\n",
       "     'likes': {'count': 1,\n",
       "      'groups': [{'type': 'others',\n",
       "        'count': 1,\n",
       "        'items': [{'id': '10764674',\n",
       "          'firstName': 'agnes',\n",
       "          'lastName': 'chan',\n",
       "          'gender': 'female',\n",
       "          'photo': {'prefix': 'https://fastly.4sqi.net/img/user/',\n",
       "           'suffix': '/MBGEXS0VI2BSRMH1.jpg'}}]}],\n",
       "      'summary': '1 like'},\n",
       "     'logView': True,\n",
       "     'agreeCount': 3,\n",
       "     'disagreeCount': 0,\n",
       "     'todo': {'count': 0},\n",
       "     'user': {'id': '9828894',\n",
       "      'firstName': 'Krystal',\n",
       "      'lastName': 'Solcich',\n",
       "      'gender': 'female',\n",
       "      'photo': {'prefix': 'https://fastly.4sqi.net/img/user/',\n",
       "       'suffix': '/U0OQ0YWYOJ23H1NJ.jpg'}}}]}}}"
      ]
     },
     "execution_count": 33,
     "metadata": {},
     "output_type": "execute_result"
    }
   ],
   "source": [
    "## Vinny's of Carroll Gardens\n",
    "limit = 15 # set limit to be greater than or equal to the total number of tips\n",
    "url = 'https://api.foursquare.com/v2/venues/{}/tips?client_id={}&client_secret={}&v={}&limit={}'.format(venue_id, CLIENT_ID, CLIENT_SECRET, VERSION, limit)\n",
    "\n",
    "results = requests.get(url).json()\n",
    "results"
   ]
  },
  {
   "cell_type": "code",
   "execution_count": 34,
   "metadata": {},
   "outputs": [
    {
     "data": {
      "text/plain": [
       "dict_keys(['id', 'createdAt', 'text', 'type', 'canonicalUrl', 'lang', 'likes', 'logView', 'agreeCount', 'disagreeCount', 'todo', 'user'])"
      ]
     },
     "execution_count": 34,
     "metadata": {},
     "output_type": "execute_result"
    }
   ],
   "source": [
    "# Get tips and list of associated features\n",
    "tips = results['response']['tips']['items']\n",
    "\n",
    "tip = results['response']['tips']['items'][0]\n",
    "tip.keys()"
   ]
  },
  {
   "cell_type": "code",
   "execution_count": 35,
   "metadata": {},
   "outputs": [
    {
     "data": {
      "text/html": [
       "<div>\n",
       "<style scoped>\n",
       "    .dataframe tbody tr th:only-of-type {\n",
       "        vertical-align: middle;\n",
       "    }\n",
       "\n",
       "    .dataframe tbody tr th {\n",
       "        vertical-align: top;\n",
       "    }\n",
       "\n",
       "    .dataframe thead th {\n",
       "        text-align: right;\n",
       "    }\n",
       "</style>\n",
       "<table border=\"1\" class=\"dataframe\">\n",
       "  <thead>\n",
       "    <tr style=\"text-align: right;\">\n",
       "      <th></th>\n",
       "      <th>text</th>\n",
       "      <th>agreeCount</th>\n",
       "      <th>disagreeCount</th>\n",
       "      <th>id</th>\n",
       "      <th>user.firstName</th>\n",
       "      <th>user.lastName</th>\n",
       "      <th>user.gender</th>\n",
       "      <th>user.id</th>\n",
       "    </tr>\n",
       "  </thead>\n",
       "  <tbody>\n",
       "    <tr>\n",
       "      <th>0</th>\n",
       "      <td>Vinny is super friendly, been in the business 40 years! Food is great. No hipsters here, old school and neighborhoody.</td>\n",
       "      <td>3</td>\n",
       "      <td>0</td>\n",
       "      <td>53095fbe11d2a9634edf062d</td>\n",
       "      <td>Krystal</td>\n",
       "      <td>Solcich</td>\n",
       "      <td>female</td>\n",
       "      <td>9828894</td>\n",
       "    </tr>\n",
       "  </tbody>\n",
       "</table>\n",
       "</div>"
      ],
      "text/plain": [
       "                                                                                                                     text  \\\n",
       "0  Vinny is super friendly, been in the business 40 years! Food is great. No hipsters here, old school and neighborhoody.   \n",
       "\n",
       "   agreeCount  disagreeCount                        id user.firstName  \\\n",
       "0  3           0              53095fbe11d2a9634edf062d  Krystal         \n",
       "\n",
       "  user.lastName user.gender  user.id  \n",
       "0  Solcich       female      9828894  "
      ]
     },
     "execution_count": 35,
     "metadata": {},
     "output_type": "execute_result"
    }
   ],
   "source": [
    "pd.set_option('display.max_colwidth', -1)\n",
    "\n",
    "tips_df = json_normalize(tips) # json normalize tips\n",
    "\n",
    "# columns to keep\n",
    "filtered_columns = ['text', 'agreeCount', 'disagreeCount', 'id', 'user.firstName', 'user.lastName', 'user.gender', 'user.id']\n",
    "tips_filtered = tips_df.loc[:, filtered_columns]\n",
    "\n",
    "# display tips\n",
    "tips_filtered"
   ]
  },
  {
   "cell_type": "code",
   "execution_count": 36,
   "metadata": {},
   "outputs": [],
   "source": [
    "latitude = 40.715337\n",
    "longitude = -74.008848"
   ]
  },
  {
   "cell_type": "code",
   "execution_count": 37,
   "metadata": {},
   "outputs": [
    {
     "data": {
      "text/plain": [
       "'https://api.foursquare.com/v2/venues/explore?client_id=M12NTNG0XL3O05IYMKRNIWFULVQZCTNJ0NG5RXKIFKMNLJ2W&client_secret=TSLNQ3OEHLKAWTHW4WALGGWGZ5TVCD2WTDQYNF01T21FQCRQ&ll=40.715337,-74.008848&v=20180604&radius=500&limit=100'"
      ]
     },
     "execution_count": 37,
     "metadata": {},
     "output_type": "execute_result"
    }
   ],
   "source": [
    "url = 'https://api.foursquare.com/v2/venues/explore?client_id={}&client_secret={}&ll={},{}&v={}&radius={}&limit={}'.format(CLIENT_ID, CLIENT_SECRET, latitude, longitude, VERSION, radius, LIMIT)\n",
    "url"
   ]
  },
  {
   "cell_type": "code",
   "execution_count": 39,
   "metadata": {},
   "outputs": [
    {
     "data": {
      "text/plain": [
       "'There are 100 around Vinnys of Carroll Gardens restaurant.'"
      ]
     },
     "execution_count": 39,
     "metadata": {},
     "output_type": "execute_result"
    }
   ],
   "source": [
    "results = requests.get(url).json()\n",
    "'There are {} around Vinnys of Carroll Gardens restaurant.'.format(len(results['response']['groups'][0]['items']))"
   ]
  },
  {
   "cell_type": "code",
   "execution_count": 40,
   "metadata": {},
   "outputs": [
    {
     "data": {
      "text/plain": [
       "{'reasons': {'count': 0,\n",
       "  'items': [{'summary': 'This spot is popular',\n",
       "    'type': 'general',\n",
       "    'reasonName': 'globalInteractionReason'}]},\n",
       " 'venue': {'id': '4af5d65ff964a52091fd21e3',\n",
       "  'name': 'Korin',\n",
       "  'location': {'address': '57 Warren St',\n",
       "   'crossStreet': 'Church St',\n",
       "   'lat': 40.71482437714839,\n",
       "   'lng': -74.00940425461492,\n",
       "   'labeledLatLngs': [{'label': 'display',\n",
       "     'lat': 40.71482437714839,\n",
       "     'lng': -74.00940425461492}],\n",
       "   'distance': 73,\n",
       "   'postalCode': '10007',\n",
       "   'cc': 'US',\n",
       "   'neighborhood': 'Tribeca',\n",
       "   'city': 'New York',\n",
       "   'state': 'NY',\n",
       "   'country': 'United States',\n",
       "   'formattedAddress': ['57 Warren St (Church St)',\n",
       "    'New York, NY 10007',\n",
       "    'United States']},\n",
       "  'categories': [{'id': '4bf58dd8d48988d1f8941735',\n",
       "    'name': 'Furniture / Home Store',\n",
       "    'pluralName': 'Furniture / Home Stores',\n",
       "    'shortName': 'Furniture / Home',\n",
       "    'icon': {'prefix': 'https://ss3.4sqi.net/img/categories_v2/shops/furniture_',\n",
       "     'suffix': '.png'},\n",
       "    'primary': True}],\n",
       "  'photos': {'count': 0, 'groups': []},\n",
       "  'venuePage': {'id': '33104775'}},\n",
       " 'referralId': 'e-0-4af5d65ff964a52091fd21e3-0'}"
      ]
     },
     "execution_count": 40,
     "metadata": {},
     "output_type": "execute_result"
    }
   ],
   "source": [
    "items = results['response']['groups'][0]['items']\n",
    "items[0]"
   ]
  },
  {
   "cell_type": "code",
   "execution_count": 41,
   "metadata": {},
   "outputs": [
    {
     "data": {
      "text/html": [
       "<div>\n",
       "<style scoped>\n",
       "    .dataframe tbody tr th:only-of-type {\n",
       "        vertical-align: middle;\n",
       "    }\n",
       "\n",
       "    .dataframe tbody tr th {\n",
       "        vertical-align: top;\n",
       "    }\n",
       "\n",
       "    .dataframe thead th {\n",
       "        text-align: right;\n",
       "    }\n",
       "</style>\n",
       "<table border=\"1\" class=\"dataframe\">\n",
       "  <thead>\n",
       "    <tr style=\"text-align: right;\">\n",
       "      <th></th>\n",
       "      <th>name</th>\n",
       "      <th>categories</th>\n",
       "      <th>address</th>\n",
       "      <th>crossStreet</th>\n",
       "      <th>lat</th>\n",
       "      <th>lng</th>\n",
       "      <th>labeledLatLngs</th>\n",
       "      <th>distance</th>\n",
       "      <th>postalCode</th>\n",
       "      <th>cc</th>\n",
       "      <th>neighborhood</th>\n",
       "      <th>city</th>\n",
       "      <th>state</th>\n",
       "      <th>country</th>\n",
       "      <th>formattedAddress</th>\n",
       "      <th>id</th>\n",
       "    </tr>\n",
       "  </thead>\n",
       "  <tbody>\n",
       "    <tr>\n",
       "      <th>0</th>\n",
       "      <td>Korin</td>\n",
       "      <td>Furniture / Home Store</td>\n",
       "      <td>57 Warren St</td>\n",
       "      <td>Church St</td>\n",
       "      <td>40.714824</td>\n",
       "      <td>-74.009404</td>\n",
       "      <td>[{'label': 'display', 'lat': 40.71482437714839, 'lng': -74.00940425461492}]</td>\n",
       "      <td>73</td>\n",
       "      <td>10007</td>\n",
       "      <td>US</td>\n",
       "      <td>Tribeca</td>\n",
       "      <td>New York</td>\n",
       "      <td>NY</td>\n",
       "      <td>United States</td>\n",
       "      <td>[57 Warren St (Church St), New York, NY 10007, United States]</td>\n",
       "      <td>4af5d65ff964a52091fd21e3</td>\n",
       "    </tr>\n",
       "    <tr>\n",
       "      <th>1</th>\n",
       "      <td>Chambers Street Wines</td>\n",
       "      <td>Wine Shop</td>\n",
       "      <td>148 Chambers St</td>\n",
       "      <td>btwn West Broadway &amp; Hudson St</td>\n",
       "      <td>40.715773</td>\n",
       "      <td>-74.009718</td>\n",
       "      <td>[{'label': 'display', 'lat': 40.715773063928374, 'lng': -74.00971823312332}]</td>\n",
       "      <td>88</td>\n",
       "      <td>10007</td>\n",
       "      <td>US</td>\n",
       "      <td>NaN</td>\n",
       "      <td>New York</td>\n",
       "      <td>NY</td>\n",
       "      <td>United States</td>\n",
       "      <td>[148 Chambers St (btwn West Broadway &amp; Hudson St), New York, NY 10007, United States]</td>\n",
       "      <td>4adcf23cf964a520cc6221e3</td>\n",
       "    </tr>\n",
       "    <tr>\n",
       "      <th>2</th>\n",
       "      <td>Juice Press</td>\n",
       "      <td>Vegetarian / Vegan Restaurant</td>\n",
       "      <td>83 Murray St</td>\n",
       "      <td>btwn Greenwich St &amp; W Broadway</td>\n",
       "      <td>40.714788</td>\n",
       "      <td>-74.011132</td>\n",
       "      <td>[{'label': 'display', 'lat': 40.71478769908051, 'lng': -74.0111317502157}]</td>\n",
       "      <td>202</td>\n",
       "      <td>10007</td>\n",
       "      <td>US</td>\n",
       "      <td>NaN</td>\n",
       "      <td>New York</td>\n",
       "      <td>NY</td>\n",
       "      <td>United States</td>\n",
       "      <td>[83 Murray St (btwn Greenwich St &amp; W Broadway), New York, NY 10007, United States]</td>\n",
       "      <td>54148bc6498ea7bb8c05b70a</td>\n",
       "    </tr>\n",
       "    <tr>\n",
       "      <th>3</th>\n",
       "      <td>Takahachi Bakery</td>\n",
       "      <td>Bakery</td>\n",
       "      <td>25 Murray St</td>\n",
       "      <td>at Church St</td>\n",
       "      <td>40.713653</td>\n",
       "      <td>-74.008804</td>\n",
       "      <td>[{'label': 'display', 'lat': 40.713652845301894, 'lng': -74.0088038953017}]</td>\n",
       "      <td>187</td>\n",
       "      <td>10007</td>\n",
       "      <td>US</td>\n",
       "      <td>NaN</td>\n",
       "      <td>New York</td>\n",
       "      <td>NY</td>\n",
       "      <td>United States</td>\n",
       "      <td>[25 Murray St (at Church St), New York, NY 10007, United States]</td>\n",
       "      <td>4c154c9a77cea593c401d260</td>\n",
       "    </tr>\n",
       "    <tr>\n",
       "      <th>4</th>\n",
       "      <td>Takahachi</td>\n",
       "      <td>Sushi Restaurant</td>\n",
       "      <td>145 Duane St</td>\n",
       "      <td>btwn W Broadway &amp; Church St</td>\n",
       "      <td>40.716526</td>\n",
       "      <td>-74.008101</td>\n",
       "      <td>[{'label': 'display', 'lat': 40.71652647412374, 'lng': -74.00810108466207}]</td>\n",
       "      <td>146</td>\n",
       "      <td>10013</td>\n",
       "      <td>US</td>\n",
       "      <td>NaN</td>\n",
       "      <td>New York</td>\n",
       "      <td>NY</td>\n",
       "      <td>United States</td>\n",
       "      <td>[145 Duane St (btwn W Broadway &amp; Church St), New York, NY 10013, United States]</td>\n",
       "      <td>4a8f2f39f964a520471420e3</td>\n",
       "    </tr>\n",
       "    <tr>\n",
       "      <th>5</th>\n",
       "      <td>Los Tacos No. 1</td>\n",
       "      <td>Taco Place</td>\n",
       "      <td>136 Church St</td>\n",
       "      <td>NaN</td>\n",
       "      <td>40.714267</td>\n",
       "      <td>-74.008756</td>\n",
       "      <td>[{'label': 'display', 'lat': 40.714267, 'lng': -74.008756}]</td>\n",
       "      <td>119</td>\n",
       "      <td>10007</td>\n",
       "      <td>US</td>\n",
       "      <td>NaN</td>\n",
       "      <td>New York</td>\n",
       "      <td>NY</td>\n",
       "      <td>United States</td>\n",
       "      <td>[136 Church St, New York, NY 10007, United States]</td>\n",
       "      <td>5d5f24ec09484500079aee00</td>\n",
       "    </tr>\n",
       "    <tr>\n",
       "      <th>6</th>\n",
       "      <td>Heyday</td>\n",
       "      <td>Spa</td>\n",
       "      <td>92 Reade St</td>\n",
       "      <td>NaN</td>\n",
       "      <td>40.715726</td>\n",
       "      <td>-74.007767</td>\n",
       "      <td>[{'label': 'display', 'lat': 40.715726, 'lng': -74.007767}]</td>\n",
       "      <td>100</td>\n",
       "      <td>10013</td>\n",
       "      <td>US</td>\n",
       "      <td>NaN</td>\n",
       "      <td>New York</td>\n",
       "      <td>NY</td>\n",
       "      <td>United States</td>\n",
       "      <td>[92 Reade St, New York, NY 10013, United States]</td>\n",
       "      <td>57ad129c498e05b086594d72</td>\n",
       "    </tr>\n",
       "    <tr>\n",
       "      <th>7</th>\n",
       "      <td>Philip Williams Posters</td>\n",
       "      <td>Antique Shop</td>\n",
       "      <td>122 Chambers St</td>\n",
       "      <td>NaN</td>\n",
       "      <td>40.715284</td>\n",
       "      <td>-74.008781</td>\n",
       "      <td>[{'label': 'display', 'lat': 40.71528423132827, 'lng': -74.00878093952018}]</td>\n",
       "      <td>8</td>\n",
       "      <td>10007</td>\n",
       "      <td>US</td>\n",
       "      <td>NaN</td>\n",
       "      <td>New York</td>\n",
       "      <td>NY</td>\n",
       "      <td>United States</td>\n",
       "      <td>[122 Chambers St, New York, NY 10007, United States]</td>\n",
       "      <td>4b747291f964a52042dd2de3</td>\n",
       "    </tr>\n",
       "    <tr>\n",
       "      <th>8</th>\n",
       "      <td>Whole Foods Market</td>\n",
       "      <td>Grocery Store</td>\n",
       "      <td>270 Greenwich Street</td>\n",
       "      <td>at Warren St</td>\n",
       "      <td>40.715579</td>\n",
       "      <td>-74.011368</td>\n",
       "      <td>[{'label': 'display', 'lat': 40.715579155420606, 'lng': -74.01136823958119}]</td>\n",
       "      <td>214</td>\n",
       "      <td>10007</td>\n",
       "      <td>US</td>\n",
       "      <td>Tribeca</td>\n",
       "      <td>New York</td>\n",
       "      <td>NY</td>\n",
       "      <td>United States</td>\n",
       "      <td>[270 Greenwich Street (at Warren St), New York, NY 10007, United States]</td>\n",
       "      <td>49bc3b0af964a52020541fe3</td>\n",
       "    </tr>\n",
       "    <tr>\n",
       "      <th>9</th>\n",
       "      <td>Equinox Tribeca</td>\n",
       "      <td>Gym</td>\n",
       "      <td>54 Murray St</td>\n",
       "      <td>at W Broadway</td>\n",
       "      <td>40.714099</td>\n",
       "      <td>-74.009686</td>\n",
       "      <td>[{'label': 'display', 'lat': 40.71409860726041, 'lng': -74.0096857179283}]</td>\n",
       "      <td>154</td>\n",
       "      <td>10007</td>\n",
       "      <td>US</td>\n",
       "      <td>NaN</td>\n",
       "      <td>New York</td>\n",
       "      <td>NY</td>\n",
       "      <td>United States</td>\n",
       "      <td>[54 Murray St (at W Broadway), New York, NY 10007, United States]</td>\n",
       "      <td>4a6e331af964a52031d41fe3</td>\n",
       "    </tr>\n",
       "  </tbody>\n",
       "</table>\n",
       "</div>"
      ],
      "text/plain": [
       "                      name                     categories  \\\n",
       "0  Korin                    Furniture / Home Store          \n",
       "1  Chambers Street Wines    Wine Shop                       \n",
       "2  Juice Press              Vegetarian / Vegan Restaurant   \n",
       "3  Takahachi Bakery         Bakery                          \n",
       "4  Takahachi                Sushi Restaurant                \n",
       "5  Los Tacos No. 1          Taco Place                      \n",
       "6  Heyday                   Spa                             \n",
       "7  Philip Williams Posters  Antique Shop                    \n",
       "8  Whole Foods Market       Grocery Store                   \n",
       "9  Equinox Tribeca          Gym                             \n",
       "\n",
       "                address                     crossStreet        lat        lng  \\\n",
       "0  57 Warren St          Church St                       40.714824 -74.009404   \n",
       "1  148 Chambers St       btwn West Broadway & Hudson St  40.715773 -74.009718   \n",
       "2  83 Murray St          btwn Greenwich St & W Broadway  40.714788 -74.011132   \n",
       "3  25 Murray St          at Church St                    40.713653 -74.008804   \n",
       "4  145 Duane St          btwn W Broadway & Church St     40.716526 -74.008101   \n",
       "5  136 Church St         NaN                             40.714267 -74.008756   \n",
       "6  92 Reade St           NaN                             40.715726 -74.007767   \n",
       "7  122 Chambers St       NaN                             40.715284 -74.008781   \n",
       "8  270 Greenwich Street  at Warren St                    40.715579 -74.011368   \n",
       "9  54 Murray St          at W Broadway                   40.714099 -74.009686   \n",
       "\n",
       "                                                                 labeledLatLngs  \\\n",
       "0  [{'label': 'display', 'lat': 40.71482437714839, 'lng': -74.00940425461492}]    \n",
       "1  [{'label': 'display', 'lat': 40.715773063928374, 'lng': -74.00971823312332}]   \n",
       "2  [{'label': 'display', 'lat': 40.71478769908051, 'lng': -74.0111317502157}]     \n",
       "3  [{'label': 'display', 'lat': 40.713652845301894, 'lng': -74.0088038953017}]    \n",
       "4  [{'label': 'display', 'lat': 40.71652647412374, 'lng': -74.00810108466207}]    \n",
       "5  [{'label': 'display', 'lat': 40.714267, 'lng': -74.008756}]                    \n",
       "6  [{'label': 'display', 'lat': 40.715726, 'lng': -74.007767}]                    \n",
       "7  [{'label': 'display', 'lat': 40.71528423132827, 'lng': -74.00878093952018}]    \n",
       "8  [{'label': 'display', 'lat': 40.715579155420606, 'lng': -74.01136823958119}]   \n",
       "9  [{'label': 'display', 'lat': 40.71409860726041, 'lng': -74.0096857179283}]     \n",
       "\n",
       "   distance postalCode  cc neighborhood      city state        country  \\\n",
       "0  73        10007      US  Tribeca      New York  NY    United States   \n",
       "1  88        10007      US  NaN          New York  NY    United States   \n",
       "2  202       10007      US  NaN          New York  NY    United States   \n",
       "3  187       10007      US  NaN          New York  NY    United States   \n",
       "4  146       10013      US  NaN          New York  NY    United States   \n",
       "5  119       10007      US  NaN          New York  NY    United States   \n",
       "6  100       10013      US  NaN          New York  NY    United States   \n",
       "7  8         10007      US  NaN          New York  NY    United States   \n",
       "8  214       10007      US  Tribeca      New York  NY    United States   \n",
       "9  154       10007      US  NaN          New York  NY    United States   \n",
       "\n",
       "                                                                        formattedAddress  \\\n",
       "0  [57 Warren St (Church St), New York, NY 10007, United States]                           \n",
       "1  [148 Chambers St (btwn West Broadway & Hudson St), New York, NY 10007, United States]   \n",
       "2  [83 Murray St (btwn Greenwich St & W Broadway), New York, NY 10007, United States]      \n",
       "3  [25 Murray St (at Church St), New York, NY 10007, United States]                        \n",
       "4  [145 Duane St (btwn W Broadway & Church St), New York, NY 10013, United States]         \n",
       "5  [136 Church St, New York, NY 10007, United States]                                      \n",
       "6  [92 Reade St, New York, NY 10013, United States]                                        \n",
       "7  [122 Chambers St, New York, NY 10007, United States]                                    \n",
       "8  [270 Greenwich Street (at Warren St), New York, NY 10007, United States]                \n",
       "9  [54 Murray St (at W Broadway), New York, NY 10007, United States]                       \n",
       "\n",
       "                         id  \n",
       "0  4af5d65ff964a52091fd21e3  \n",
       "1  4adcf23cf964a520cc6221e3  \n",
       "2  54148bc6498ea7bb8c05b70a  \n",
       "3  4c154c9a77cea593c401d260  \n",
       "4  4a8f2f39f964a520471420e3  \n",
       "5  5d5f24ec09484500079aee00  \n",
       "6  57ad129c498e05b086594d72  \n",
       "7  4b747291f964a52042dd2de3  \n",
       "8  49bc3b0af964a52020541fe3  \n",
       "9  4a6e331af964a52031d41fe3  "
      ]
     },
     "execution_count": 41,
     "metadata": {},
     "output_type": "execute_result"
    }
   ],
   "source": [
    "dataframe = json_normalize(items) # flatten JSON\n",
    "\n",
    "# filter columns\n",
    "filtered_columns = ['venue.name', 'venue.categories'] + [col for col in dataframe.columns if col.startswith('venue.location.')] + ['venue.id']\n",
    "dataframe_filtered = dataframe.loc[:, filtered_columns]\n",
    "\n",
    "# filter the category for each row\n",
    "dataframe_filtered['venue.categories'] = dataframe_filtered.apply(get_category_type, axis=1)\n",
    "\n",
    "# clean columns\n",
    "dataframe_filtered.columns = [col.split('.')[-1] for col in dataframe_filtered.columns]\n",
    "\n",
    "dataframe_filtered.head(10)"
   ]
  },
  {
   "cell_type": "code",
   "execution_count": 32,
   "metadata": {
    "button": false,
    "collapsed": false,
    "jupyter": {
     "outputs_hidden": false
    },
    "new_sheet": false,
    "run_control": {
     "read_only": false
    }
   },
   "outputs": [
    {
     "data": {
      "text/html": [
       "<div style=\"width:100%;\"><div style=\"position:relative;width:100%;height:0;padding-bottom:60%;\"><iframe src=\"data:text/html;charset=utf-8;base64,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\" style=\"position:absolute;width:100%;height:100%;left:0;top:0;border:none !important;\" allowfullscreen webkitallowfullscreen mozallowfullscreen></iframe></div></div>"
      ],
      "text/plain": [
       "<folium.folium.Map at 0x7f08ce3e4160>"
      ]
     },
     "execution_count": 32,
     "metadata": {},
     "output_type": "execute_result"
    }
   ],
   "source": [
    "venues_map = folium.Map(location=[latitude, longitude], zoom_start=15) # generate map centred around Ecco\n",
    "\n",
    "\n",
    "# add Ecco as a red circle mark\n",
    "folium.features.CircleMarker(\n",
    "    [latitude, longitude],\n",
    "    radius=10,\n",
    "    popup='Ecco',\n",
    "    fill=True,\n",
    "    color='red',\n",
    "    fill_color='red',\n",
    "    fill_opacity=0.6\n",
    "    ).add_to(venues_map)\n",
    "\n",
    "\n",
    "# add popular spots to the map as blue circle markers\n",
    "for lat, lng, label in zip(dataframe_filtered.lat, dataframe_filtered.lng, dataframe_filtered.categories):\n",
    "    folium.features.CircleMarker(\n",
    "        [lat, lng],\n",
    "        radius=5,\n",
    "        popup=label,\n",
    "        fill=True,\n",
    "        color='blue',\n",
    "        fill_color='blue',\n",
    "        fill_opacity=0.6\n",
    "        ).add_to(venues_map)\n",
    "\n",
    "# display map\n",
    "venues_map"
   ]
  },
  {
   "cell_type": "markdown",
   "metadata": {},
   "source": [
    "### Explore Trending Venues"
   ]
  },
  {
   "cell_type": "code",
   "execution_count": 44,
   "metadata": {},
   "outputs": [
    {
     "data": {
      "text/plain": [
       "{'meta': {'code': 200, 'requestId': '5df9fe60618f43001bd06020'},\n",
       " 'response': {'venues': []}}"
      ]
     },
     "execution_count": 44,
     "metadata": {},
     "output_type": "execute_result"
    }
   ],
   "source": [
    "# define URL\n",
    "url = 'https://api.foursquare.com/v2/venues/trending?client_id={}&client_secret={}&ll={},{}&v={}'.format(CLIENT_ID, CLIENT_SECRET, latitude, longitude, VERSION)\n",
    "\n",
    "# send GET request and get trending venues\n",
    "results = requests.get(url).json()\n",
    "results"
   ]
  },
  {
   "cell_type": "code",
   "execution_count": 45,
   "metadata": {},
   "outputs": [],
   "source": [
    "if len(results['response']['venues']) == 0:\n",
    "    trending_venues_df = 'No trending venues are available at the moment!'\n",
    "    \n",
    "else:\n",
    "    trending_venues = results['response']['venues']\n",
    "    trending_venues_df = json_normalize(trending_venues)\n",
    "\n",
    "    # filter columns\n",
    "    columns_filtered = ['name', 'categories'] + ['location.distance', 'location.city', 'location.postalCode', 'location.state', 'location.country', 'location.lat', 'location.lng']\n",
    "    trending_venues_df = trending_venues_df.loc[:, columns_filtered]\n",
    "\n",
    "    # filter the category for each row\n",
    "    trending_venues_df['categories'] = trending_venues_df.apply(get_category_type, axis=1)"
   ]
  },
  {
   "cell_type": "code",
   "execution_count": 46,
   "metadata": {},
   "outputs": [
    {
     "data": {
      "text/plain": [
       "'No trending venues are available at the moment!'"
      ]
     },
     "execution_count": 46,
     "metadata": {},
     "output_type": "execute_result"
    }
   ],
   "source": [
    "# display trending venues\n",
    "trending_venues_df"
   ]
  },
  {
   "cell_type": "code",
   "execution_count": null,
   "metadata": {},
   "outputs": [],
   "source": []
  }
 ],
 "metadata": {
  "kernelspec": {
   "display_name": "Python",
   "language": "python",
   "name": "conda-env-python-py"
  },
  "language_info": {
   "codemirror_mode": {
    "name": "ipython",
    "version": 3
   },
   "file_extension": ".py",
   "mimetype": "text/x-python",
   "name": "python",
   "nbconvert_exporter": "python",
   "pygments_lexer": "ipython3",
   "version": "3.6.7"
  }
 },
 "nbformat": 4,
 "nbformat_minor": 4
}
